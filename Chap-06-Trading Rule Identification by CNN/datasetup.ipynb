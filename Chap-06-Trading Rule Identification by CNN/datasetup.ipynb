{
 "cells": [
  {
   "cell_type": "code",
   "execution_count": 1,
   "metadata": {},
   "outputs": [],
   "source": [
    "class YahooDailyReader():\n",
    "\t\n",
    "\tdef __init__(self, symbol=None, start=None, end=None):\n",
    "\t\timport datetime, time\n",
    "\t\tself.symbol = symbol\n",
    "\t\t\n",
    "\t\t# initialize start/end dates if not provided\n",
    "\t\tif end is None:\n",
    "\t\t\tend = datetime.datetime.today()\n",
    "\t\tif start is None:\n",
    "\t\t\tstart = datetime.datetime(2010,1,1)\n",
    "\t\t\n",
    "\t\tself.start = start\n",
    "\t\tself.end = end\n",
    "\t\t\n",
    "\t\t# convert dates to unix time strings\n",
    "\t\tunix_start = int(time.mktime(self.start.timetuple()))\n",
    "\t\tday_end = self.end.replace(hour=23, minute=59, second=59)\n",
    "\t\tunix_end = int(time.mktime(day_end.timetuple()))\n",
    "\t\t\n",
    "\t\turl = 'https://finance.yahoo.com/quote/{}/history?'\n",
    "\t\turl += 'period1={}&period2={}'\n",
    "\t\turl += '&filter=history'\n",
    "\t\turl += '&interval=1d'\n",
    "\t\turl += '&frequency=1d'\n",
    "\t\tself.url = url.format(self.symbol, unix_start, unix_end)\n",
    "\t\t\n",
    "\tdef read(self):\n",
    "\t\timport requests, re, json\n",
    "\t\timport pandas as pd\n",
    "\t\tr = requests.get(self.url)\n",
    "\t\t\n",
    "\t\tptrn = r'root\\.App\\.main = (.*?);\\n}\\(this\\)\\);'\n",
    "\t\ttxt = re.search(ptrn, r.text, re.DOTALL).group(1)\n",
    "\t\tjsn = json.loads(txt)\n",
    "\t\tdf = pd.DataFrame(\n",
    "\t\t\t\tjsn['context']['dispatcher']['stores']\n",
    "\t\t\t\t['HistoricalPriceStore']['prices']\n",
    "\t\t\t\t)\n",
    "\t\tdf.insert(0, 'symbol', self.symbol)\n",
    "\t\tdf['date'] = pd.to_datetime(df['date'], unit='s').dt.date\n",
    "\t\t\n",
    "\t\t# drop rows that aren't prices\n",
    "\t\tdf = df.dropna(subset=['close'])\n",
    "\t\t\n",
    "\t\tdf = df[['date','symbol', 'open', 'high', 'low',  'close', 'adjclose', 'volume']]\n",
    "\t\tcolnames = ['Date', 'symbolid', 'Open', 'High', 'Low', 'Close', 'AdjClose', 'Volume']\n",
    "\t\tdf.columns = colnames\n",
    "\t\tdf = df.set_index('Date')\n",
    "\t\treturn df\n"
   ]
  },
  {
   "cell_type": "code",
   "execution_count": 15,
   "metadata": {},
   "outputs": [],
   "source": [
    "import pandas as pd\n",
    "import datetime as dt\n",
    "# read csv file of symbols\n",
    "# you can use your own symbols for assets of interest\n",
    "symbollist = pd.read_csv('nasdaqsymbol.csv')\n",
    "symbollist = symbollist.Symbol"
   ]
  },
  {
   "cell_type": "code",
   "execution_count": 17,
   "metadata": {},
   "outputs": [
    {
     "name": "stdout",
     "output_type": "stream",
     "text": [
      "AAPL\n",
      "ZS\n",
      "ZSAN\n",
      "ZUMZ\n",
      "ZYNE\n"
     ]
    }
   ],
   "source": [
    "# create csv files for each of the symbols.\n",
    "for symbol in symbollist:\n",
    "    startdt, enddt = dt.datetime(1990, 1, 1), dt.datetime(2020, 6, 30)\n",
    "    print(symbol)\n",
    "    try:\n",
    "        ydr = YahooDailyReader(symbol=symbol, start = startdt, end = enddt)\n",
    "        data = ydr.read()\n",
    "        data.to_csv('csvdata/' + symbol + '.csv')\n",
    "    except:\n",
    "        print(symbol + ' not done')"
   ]
  },
  {
   "cell_type": "code",
   "execution_count": 1,
   "metadata": {},
   "outputs": [],
   "source": [
    "import pandas as pd \n",
    "import numpy as np \n",
    "import random  # used to select random stocks for sampling"
   ]
  },
  {
   "cell_type": "code",
   "execution_count": 2,
   "metadata": {},
   "outputs": [],
   "source": [
    "# decide upon the time period of interest for generating buy signals\n",
    "# Assume you can sell at the lows and buy at highs for that day only\n",
    "# Assume some transaction cost say 50 bps\n",
    "def long_returns(df, numdays):\n",
    "\tdf['buyret'] = (df.Low / df.High.shift(numdays)-1)*100\n",
    "\tdf.buyret.fillna(0, inplace=True)\n",
    "\treturn df\n",
    "\n",
    "# decide upon the time period of interest for generating sell signals\n",
    "# Assume you can sell at the lows and buy at highs only\n",
    "# Assume some transaction cost say 50 bps\n",
    "def short_returns(df, numdays):\n",
    "\tdf['sellret'] = (df.Low.shift(numdays) / df.High -1)*100\n",
    "\tdf.sellret.fillna(0,inplace=True)\n",
    "\treturn df\n",
    "\n",
    "def label_data(df):\n",
    "\tdf['Action'] = 'None'\n",
    "\tdf.loc[df['buyret'] > 0.5, 'Action'] = 'Buy'\n",
    "\tdf.loc[df['sellret'] > 0.5, 'Action'] = 'Sell'\n",
    "\treturn df"
   ]
  },
  {
   "cell_type": "code",
   "execution_count": 3,
   "metadata": {},
   "outputs": [],
   "source": [
    "# flexible function for computing moving average values\n",
    "# normalise with variable that has the highest value\n",
    "def moving_avg_data(df, mavnames, mavdays):\n",
    "\tif(len(mavnames) != len(mavdays)):\n",
    "\t\tprint('Variable Names and Number of days must match')\n",
    "\t\treturn\n",
    "\t\n",
    "\tfor i in range(0,len(mavnames)):\n",
    "\t\tdf[mavnames[i]] = df.AdjClose.rolling(window = mavdays[i]).mean()\n",
    "\n",
    "\tmaxmovavg = mavnames[mavdays.index(max(mavdays))]\n",
    "\tmavnames.remove(maxmovavg)\n",
    "\n",
    "\tfor i in range(0,len(mavnames)):\n",
    "\t\tdf[mavnames[i]] = df[mavnames[i]] / df[maxmovavg]\n",
    "\n",
    "\tdf.loc[:,maxmovavg] = 1\n",
    "\tdf.drop(df.index[:max(mavdays)],inplace=True)\n",
    "\treturn df"
   ]
  },
  {
   "cell_type": "code",
   "execution_count": 4,
   "metadata": {},
   "outputs": [],
   "source": [
    "def create_datasets(csvfilename, sample_size):\n",
    "\t# choose random integers equal to sample_size to select stocks\n",
    "\ttest_num = random.sample(range(0,len(symlist)-1), sample_size)\n",
    "\n",
    "\t# now read each file and label the data as buy or sell\n",
    "\t# create the moving average days and names list to create the dataframe\n",
    "\t# number of days forward return you would like to predict\n",
    "\n",
    "\tdata = pd.DataFrame()\n",
    "\n",
    "\tfor i in range(0,len(test_num)):\n",
    "\t\tfilename = 'csvdata/' + symlist.Symbol[test_num[i]] + '.csv'\n",
    "\t\ttemp = pd.read_csv(filename)\n",
    "\t\ttemp = temp[['Date', 'symbolid', 'Open', 'High', 'Low', 'Close', 'AdjClose', 'Volume']]\n",
    "\n",
    "\t\tmavnames = ['mav5', 'mav10','mav20','mav30','mav50','mav100','mav200']\n",
    "\t\tmavdays = [5,10,20,30,50,100,200]\n",
    "\t\tfwdret = 30\n",
    "\n",
    "\t\ttemp = long_returns(temp, fwdret)\n",
    "\t\ttemp = short_returns(temp, fwdret)\n",
    "\t\ttemp = label_data(temp)\n",
    "\t\ttemp = moving_avg_data(temp, mavnames, mavdays)\n",
    "\t\ttemp = temp[['Date','symbolid','buyret','sellret','Action','mav5', 'mav10','mav20','mav30','mav50','mav100']]\n",
    "\t\tdata = data.append(temp)\n",
    "\n",
    "\t\t#print(str(i/len(test_num)*100) + ' percent setup done')\n",
    "\tdata.to_csv('sampledata/'+csvfilename)\n",
    "\tprint(csvfilename + ' written to disk')\n"
   ]
  },
  {
   "cell_type": "code",
   "execution_count": 5,
   "metadata": {},
   "outputs": [
    {
     "name": "stdout",
     "output_type": "stream",
     "text": [
      "train_50.csv written to disk\n",
      "test_50.csv written to disk\n",
      "train_250.csv written to disk\n",
      "test_100.csv written to disk\n",
      "train_500.csv written to disk\n",
      "test_150.csv written to disk\n",
      "train_750.csv written to disk\n",
      "test_250.csv written to disk\n",
      "train_1000.csv written to disk\n",
      "test_500.csv written to disk\n"
     ]
    }
   ],
   "source": [
    "symlist = pd.read_csv('csvdata/descdata.csv')\n",
    "\n",
    "create_datasets('train_50.csv', 50)\n",
    "\n",
    "create_datasets('test_50.csv', 50)\n",
    "\n",
    "create_datasets('train_250.csv', 250)\n",
    "\n",
    "create_datasets('test_100.csv', 100)\n",
    "\n",
    "create_datasets('train_500.csv', 500)\n",
    "\n",
    "create_datasets('test_150.csv',100)\n",
    "\n",
    "create_datasets('train_750.csv', 750)\n",
    "\n",
    "create_datasets('test_250.csv',250)\n",
    "\n",
    "create_datasets('train_1000.csv', 1000)\n",
    "\n",
    "create_datasets('test_500.csv',500)"
   ]
  },
  {
   "cell_type": "code",
   "execution_count": null,
   "metadata": {},
   "outputs": [],
   "source": []
  }
 ],
 "metadata": {
  "kernelspec": {
   "display_name": "Python 3",
   "language": "python",
   "name": "python3"
  },
  "language_info": {
   "codemirror_mode": {
    "name": "ipython",
    "version": 3
   },
   "file_extension": ".py",
   "mimetype": "text/x-python",
   "name": "python",
   "nbconvert_exporter": "python",
   "pygments_lexer": "ipython3",
   "version": "3.7.7"
  }
 },
 "nbformat": 4,
 "nbformat_minor": 2
}
